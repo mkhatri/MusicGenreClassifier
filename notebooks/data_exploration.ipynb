import pandas as pd
import matplotlib.pyplot as plt
import seaborn as sns

# Load your data
data = pd.read_csv("data/processed/combined_data.csv")

# 1. Descriptive Statistics:
print(data.describe())  # Summary statistics (mean, std, min, max, etc.)
print(data.info())  # Data types, non-null counts

# 2. Visualizing Distributions:
# Histograms for numerical features
data.hist(figsize=(12, 8))
plt.show()

# Density plots for a closer look at distributions
sns.kdeplot(data=data, x='acousticness')  # Example feature
plt.show()

# Box plots to visualize distributions by genre
sns.boxplot(x='genre_top', y='danceability', data=data)
plt.show()

# Violin plots (combination of box plot and kernel density estimate)
sns.violinplot(x='genre_top', y='energy', data=data)
plt.show()

# 3. Exploring Relationships between Features:
# Scatter plots to visualize relationships between pairs of numerical features
sns.scatterplot(x='danceability', y='valence', hue='genre_top', data=data)  # Example
plt.show()

# Pair plots to visualize relationships between all pairs of numerical features
sns.pairplot(data, hue='genre_top', vars=['acousticness', 'danceability', 'energy', 'valence']) # Select some features
plt.show()

# Correlation matrix heatmap
correlation_matrix = data.corr()
sns.heatmap(correlation_matrix, annot=True)
plt.show()

# 4. Exploring Categorical Features:
# Count plots to show the distribution of categorical features
sns.countplot(x='genre_top', data=data)  # Example feature 'genre_top'
plt.show()

# 5. Advanced Visualizations:
# Swarm plots for visualizing distributions by category
sns.swarmplot(x="genre_top", y="tempo", data=data)
plt.show()


# Joint plots for scatter plots with distributions on the axes
sns.jointplot(x='energy', y='valence', data=data, kind='kde', hue='genre_top') #'kde' or others
plt.show()